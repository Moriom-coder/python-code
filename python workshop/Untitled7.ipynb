{
 "cells": [
  {
   "cell_type": "code",
   "execution_count": 1,
   "id": "52a5d9af-6591-4738-9d7e-1e0b3720d1de",
   "metadata": {},
   "outputs": [
    {
     "name": "stdout",
     "output_type": "stream",
     "text": [
      "Hello,World!\n"
     ]
    }
   ],
   "source": [
    "def say_hello():\n",
    "    print(\"Hello,World!\")\n",
    "say_hello()"
   ]
  },
  {
   "cell_type": "code",
   "execution_count": 2,
   "id": "fbba292c-8287-4f49-ac53-7c3b3d61c412",
   "metadata": {},
   "outputs": [
    {
     "name": "stdout",
     "output_type": "stream",
     "text": [
      "The sum is: 8\n"
     ]
    }
   ],
   "source": [
    "def add(a,b):\n",
    "    return a + b\n",
    "Result = add(5,3)\n",
    "print(\"The sum is:\",Result)"
   ]
  },
  {
   "cell_type": "code",
   "execution_count": 6,
   "id": "3e91d602-4d1b-433a-9c8b-5a2834ade96b",
   "metadata": {},
   "outputs": [
    {
     "name": "stdout",
     "output_type": "stream",
     "text": [
      "Hello,Ali!\n",
      "Hello,Sam!\n"
     ]
    }
   ],
   "source": [
    "def greet(name=\"Ali\"):\n",
    "    print(\"Hello,\" + name + \"!\")\n",
    "greet()\n",
    "greet(\"Sam\")"
   ]
  },
  {
   "cell_type": "code",
   "execution_count": 8,
   "id": "5d1af356-c585-487e-8264-c8d190324b3d",
   "metadata": {},
   "outputs": [
    {
     "name": "stdout",
     "output_type": "stream",
     "text": [
      "True\n",
      "False\n"
     ]
    }
   ],
   "source": [
    "def is_even(number):\n",
    "    if number % 2 ==0:\n",
    "        return True\n",
    "    else:\n",
    "        return False\n",
    "print(is_even(4))\n",
    "print(is_even(7))"
   ]
  },
  {
   "cell_type": "code",
   "execution_count": 9,
   "id": "047cefe6-b760-4bad-b749-5be0661b6ee5",
   "metadata": {},
   "outputs": [
    {
     "name": "stdout",
     "output_type": "stream",
     "text": [
      "25\n"
     ]
    }
   ],
   "source": [
    "def find_max(a,b,c):\n",
    "    return max(a,b,c)\n",
    "print(find_max(10, 25, 15))"
   ]
  },
  {
   "cell_type": "code",
   "execution_count": 16,
   "id": "a71082c5-897e-4182-b8bd-8e8bfd0ddb0c",
   "metadata": {},
   "outputs": [
    {
     "name": "stdin",
     "output_type": "stream",
     "text": [
      "Guess a number between 1 and 10:  7\n"
     ]
    },
    {
     "name": "stdout",
     "output_type": "stream",
     "text": [
      "Wrong! The number was 3\n"
     ]
    }
   ],
   "source": [
    "import random\n",
    "def guess_the_number():\n",
    "    number = random.randint(1,10)\n",
    "    guess = int(input(\"Guess a number between 1 and 10: \"))\n",
    "    if guess == number:\n",
    "        print(\"Correct! You guessed it!\")\n",
    "    else:\n",
    "        print(f\"Wrong! The number was {number}\")\n",
    "guess_the_number()"
   ]
  },
  {
   "cell_type": "code",
   "execution_count": 19,
   "id": "f514c178-2500-439a-9ff0-3fbf46f9e4e8",
   "metadata": {},
   "outputs": [
    {
     "name": "stdin",
     "output_type": "stream",
     "text": [
      "Press Enter to Roll the dice... \n"
     ]
    },
    {
     "name": "stdout",
     "output_type": "stream",
     "text": [
      "You rolled a 2\n"
     ]
    }
   ],
   "source": [
    "def roll_dice():\n",
    "    input(\"Press Enter to Roll the dice...\")\n",
    "    Dice = random.randint(1,6)\n",
    "    print(f\"You rolled a {Dice}\")\n",
    "roll_dice()"
   ]
  },
  {
   "cell_type": "code",
   "execution_count": 21,
   "id": "f2755d72-98a3-4091-aaa2-fcfbb79862f3",
   "metadata": {},
   "outputs": [
    {
     "name": "stdin",
     "output_type": "stream",
     "text": [
      "Press Enter to roll the dice... \n"
     ]
    },
    {
     "name": "stdout",
     "output_type": "stream",
     "text": [
      "You rolled: 5\n"
     ]
    },
    {
     "name": "stdin",
     "output_type": "stream",
     "text": [
      "Roll again? (y/n):  y\n",
      "Press Enter to roll the dice... \n"
     ]
    },
    {
     "name": "stdout",
     "output_type": "stream",
     "text": [
      "You rolled: 1\n"
     ]
    },
    {
     "name": "stdin",
     "output_type": "stream",
     "text": [
      "Roll again? (y/n):  y\n",
      "Press Enter to roll the dice... \n"
     ]
    },
    {
     "name": "stdout",
     "output_type": "stream",
     "text": [
      "You rolled: 4\n"
     ]
    },
    {
     "name": "stdin",
     "output_type": "stream",
     "text": [
      "Roll again? (y/n):  y\n",
      "Press Enter to roll the dice... \n"
     ]
    },
    {
     "name": "stdout",
     "output_type": "stream",
     "text": [
      "You rolled: 4\n"
     ]
    },
    {
     "name": "stdin",
     "output_type": "stream",
     "text": [
      "Roll again? (y/n):  n\n"
     ]
    }
   ],
   "source": [
    "def roll_dice():\n",
    "    return random.randint(1,6)\n",
    "while True:\n",
    "    input(\"Press Enter to roll the dice...\")\n",
    "    print(\"You rolled:\",roll_dice())\n",
    "    again = input(\"Roll again? (y/n): \")\n",
    "    if again.lower() !='y':\n",
    "        break"
   ]
  },
  {
   "cell_type": "code",
   "execution_count": 23,
   "id": "08dd41de-2848-4ef3-8dfa-2f9d8e1742a0",
   "metadata": {},
   "outputs": [],
   "source": [
    "import tkinter as tk"
   ]
  },
  {
   "cell_type": "code",
   "execution_count": null,
   "id": "2dc84851-5fe3-40c3-a280-bf9275476388",
   "metadata": {},
   "outputs": [],
   "source": [
    "import random\n",
    "def roll_dice():\n",
    "    dice_value =  random.randint(1,6)\n",
    "    label_result.config(text=f\"You rolled: {dice_value}\")\n",
    "    dice_label.config(text=dice_unicode[dice_value])\n",
    "Dice_unicode = {\n",
    "    1: \"\\u2680\",\n",
    "    2: \"\\u2681\",\n",
    "    3: \"\\u2682\",\n",
    "    4: \"\\u2683\",\n",
    "    5: \"\\u26884\",\n",
    "    6: \"\\u2685\",\n",
    "}\n",
    "root = tk.Tk()\n",
    "root.title(\"Dice Roller\")\n",
    "root.geometry(\"300x200\")\n",
    "dice_label = tk.Label(root, text=\" \", font=(\"Helvetica\", 100))\n",
    "dice_label.pack()\n",
    "\n",
    "label_result = tk.Label(root,text=\"Click to roll the dice!\", font=(\"Helvetica\",14))\n",
    "label_result.pack(pady=10)\n",
    "\n",
    "roll_button=tk.Button(root, text=\"Roll Dice\", command=roll_dice,font=(\"Helvetica\", 12))\n",
    "roll_button.pack()\n",
    "\n",
    "root.mainloop()\n",
    "\n"
   ]
  },
  {
   "cell_type": "code",
   "execution_count": null,
   "id": "89613f12-feca-43db-a8a9-435904d6d093",
   "metadata": {},
   "outputs": [],
   "source": [
    "from "
   ]
  }
 ],
 "metadata": {
  "kernelspec": {
   "display_name": "Python 3 (ipykernel)",
   "language": "python",
   "name": "python3"
  },
  "language_info": {
   "codemirror_mode": {
    "name": "ipython",
    "version": 3
   },
   "file_extension": ".py",
   "mimetype": "text/x-python",
   "name": "python",
   "nbconvert_exporter": "python",
   "pygments_lexer": "ipython3",
   "version": "3.13.5"
  }
 },
 "nbformat": 4,
 "nbformat_minor": 5
}
