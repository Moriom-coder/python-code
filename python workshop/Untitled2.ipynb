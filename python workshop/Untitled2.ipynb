{
 "cells": [
  {
   "cell_type": "code",
   "execution_count": null,
   "id": "c58d8925-dae3-4a87-9b6c-8341e25307f9",
   "metadata": {},
   "outputs": [],
   "source": [
    "def read_file_lines(filepath):\n",
    "    with open(filepath,'r',encoding='utf-8' as file:\n",
    "        return[line.strip() for line in file if line.strip()]\n",
    " "
   ]
  }
 ],
 "metadata": {
  "kernelspec": {
   "display_name": "Python 3 (ipykernel)",
   "language": "python",
   "name": "python3"
  },
  "language_info": {
   "codemirror_mode": {
    "name": "ipython",
    "version": 3
   },
   "file_extension": ".py",
   "mimetype": "text/x-python",
   "name": "python",
   "nbconvert_exporter": "python",
   "pygments_lexer": "ipython3",
   "version": "3.13.5"
  }
 },
 "nbformat": 4,
 "nbformat_minor": 5
}
