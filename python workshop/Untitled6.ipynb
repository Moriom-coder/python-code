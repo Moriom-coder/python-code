{
 "cells": [
  {
   "cell_type": "code",
   "execution_count": null,
   "id": "65300da5-4a1c-47db-9d75-ab189147a2a7",
   "metadata": {},
   "outputs": [
    {
     "name": "stdout",
     "output_type": "stream",
     "text": [
      "enter a line of text:\n"
     ]
    }
   ],
   "source": [
    "counts = dict()\n",
    "print(\"enter a line of text:\")\n",
    "line=input(' ')\n",
    "words=line.split()\n",
    "print('Words:',words)\n",
    "\n",
    "print('counting...')\n",
    "for word in words:\n",
    "    counts[word]=counts.get(word,0)+1\n",
    "print('Counts',counts)\n",
    "special_char = ['@','#']\n",
    "special_found = [ ]\n",
    "for word in words:\n",
    "     for char in special_char:\n",
    "         if char in word:\n",
    "             special_found.append(word)\n",
    "             try:\n",
    "               total += int(word)\n",
    "             except Valueerror:\n",
    "                 Continue\n",
    "                 \n",
    "if special_found:\n",
    "     print(\"words with special char(# or @):\",special_found)\n",
    "else:\n",
    "    print(\"no special char(# or @)\")\n",
    "    \n",
    "\n",
    "    \n",
    "\n",
    "            \n"
   ]
  },
  {
   "cell_type": "code",
   "execution_count": null,
   "id": "2b945411-c74b-4cdd-a66e-9ccb8b08d530",
   "metadata": {},
   "outputs": [],
   "source": []
  }
 ],
 "metadata": {
  "kernelspec": {
   "display_name": "Python 3 (ipykernel)",
   "language": "python",
   "name": "python3"
  },
  "language_info": {
   "codemirror_mode": {
    "name": "ipython",
    "version": 3
   },
   "file_extension": ".py",
   "mimetype": "text/x-python",
   "name": "python",
   "nbconvert_exporter": "python",
   "pygments_lexer": "ipython3",
   "version": "3.13.5"
  }
 },
 "nbformat": 4,
 "nbformat_minor": 5
}
